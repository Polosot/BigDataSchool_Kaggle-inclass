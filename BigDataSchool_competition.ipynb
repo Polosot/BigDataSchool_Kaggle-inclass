{
 "cells": [
  {
   "cell_type": "markdown",
   "metadata": {},
   "source": [
    "# BigDataSchool competition\n",
    "by Sarana Maksym"
   ]
  },
  {
   "cell_type": "markdown",
   "metadata": {},
   "source": [
    "## Reading the data"
   ]
  },
  {
   "cell_type": "code",
   "execution_count": 1,
   "metadata": {
    "collapsed": true
   },
   "outputs": [],
   "source": [
    "import pandas as pd\n",
    "import numpy as np"
   ]
  },
  {
   "cell_type": "code",
   "execution_count": 5,
   "metadata": {
    "collapsed": false
   },
   "outputs": [
    {
     "data": {
      "text/plain": [
       "(8532, 42)"
      ]
     },
     "execution_count": 5,
     "metadata": {},
     "output_type": "execute_result"
    }
   ],
   "source": [
    "raw_training_data = pd.read_csv('DATA/Xtrain.csv')\n",
    "raw_test_data = pd.read_csv('DATA/Xtest.csv')\n",
    "raw_columns_description = pd.read_excel('DATA/columns_description.xlsx')\n",
    "\n",
    "raw_training_data.shape"
   ]
  },
  {
   "cell_type": "markdown",
   "metadata": {},
   "source": [
    "Посмотрим на типы данных по столбцам:"
   ]
  },
  {
   "cell_type": "code",
   "execution_count": 3,
   "metadata": {
    "collapsed": false
   },
   "outputs": [
    {
     "data": {
      "text/html": [
       "<div>\n",
       "<table border=\"1\" class=\"dataframe\">\n",
       "  <thead>\n",
       "    <tr style=\"text-align: right;\">\n",
       "      <th></th>\n",
       "      <th>Train</th>\n",
       "      <th>Test</th>\n",
       "    </tr>\n",
       "  </thead>\n",
       "  <tbody>\n",
       "    <tr>\n",
       "      <th>SUBS_ID</th>\n",
       "      <td>object</td>\n",
       "      <td>object</td>\n",
       "    </tr>\n",
       "    <tr>\n",
       "      <th>AVG_CHARGE_3M_GROUP</th>\n",
       "      <td>int64</td>\n",
       "      <td>int64</td>\n",
       "    </tr>\n",
       "    <tr>\n",
       "      <th>V_OUT_INT_DUR_3M</th>\n",
       "      <td>float64</td>\n",
       "      <td>float64</td>\n",
       "    </tr>\n",
       "    <tr>\n",
       "      <th>V_IN_INT_DUR_3M</th>\n",
       "      <td>float64</td>\n",
       "      <td>float64</td>\n",
       "    </tr>\n",
       "    <tr>\n",
       "      <th>V_OUT_INT_CNT_3M</th>\n",
       "      <td>float64</td>\n",
       "      <td>float64</td>\n",
       "    </tr>\n",
       "    <tr>\n",
       "      <th>V_IN_INT_CNT_3M</th>\n",
       "      <td>float64</td>\n",
       "      <td>float64</td>\n",
       "    </tr>\n",
       "    <tr>\n",
       "      <th>V_OUT_DUR_3M</th>\n",
       "      <td>float64</td>\n",
       "      <td>float64</td>\n",
       "    </tr>\n",
       "    <tr>\n",
       "      <th>V_IN_DUR_3M</th>\n",
       "      <td>float64</td>\n",
       "      <td>float64</td>\n",
       "    </tr>\n",
       "    <tr>\n",
       "      <th>V_OUT_CNT_3M</th>\n",
       "      <td>float64</td>\n",
       "      <td>float64</td>\n",
       "    </tr>\n",
       "    <tr>\n",
       "      <th>V_IN_CNT_3M</th>\n",
       "      <td>float64</td>\n",
       "      <td>float64</td>\n",
       "    </tr>\n",
       "    <tr>\n",
       "      <th>REFILLED_3M</th>\n",
       "      <td>float64</td>\n",
       "      <td>float64</td>\n",
       "    </tr>\n",
       "    <tr>\n",
       "      <th>DATA_MB_3M</th>\n",
       "      <td>float64</td>\n",
       "      <td>float64</td>\n",
       "    </tr>\n",
       "    <tr>\n",
       "      <th>CNT_SMS_3M</th>\n",
       "      <td>float64</td>\n",
       "      <td>float64</td>\n",
       "    </tr>\n",
       "    <tr>\n",
       "      <th>CNT_MMS_3M</th>\n",
       "      <td>float64</td>\n",
       "      <td>float64</td>\n",
       "    </tr>\n",
       "    <tr>\n",
       "      <th>OUT_ROUM_MIN_3M</th>\n",
       "      <td>float64</td>\n",
       "      <td>float64</td>\n",
       "    </tr>\n",
       "    <tr>\n",
       "      <th>IN_ROUM_MIN_3M</th>\n",
       "      <td>float64</td>\n",
       "      <td>float64</td>\n",
       "    </tr>\n",
       "    <tr>\n",
       "      <th>OUT_ROUM_CNT_3M</th>\n",
       "      <td>float64</td>\n",
       "      <td>float64</td>\n",
       "    </tr>\n",
       "    <tr>\n",
       "      <th>IN_ROUM_CNT_3M</th>\n",
       "      <td>float64</td>\n",
       "      <td>float64</td>\n",
       "    </tr>\n",
       "    <tr>\n",
       "      <th>HANDSET_VENDOR_CVAL</th>\n",
       "      <td>object</td>\n",
       "      <td>object</td>\n",
       "    </tr>\n",
       "    <tr>\n",
       "      <th>SUPPORT_3G</th>\n",
       "      <td>float64</td>\n",
       "      <td>float64</td>\n",
       "    </tr>\n",
       "    <tr>\n",
       "      <th>HANDSET_TYPE</th>\n",
       "      <td>object</td>\n",
       "      <td>object</td>\n",
       "    </tr>\n",
       "    <tr>\n",
       "      <th>DATA_CNT_EV_6M</th>\n",
       "      <td>float64</td>\n",
       "      <td>float64</td>\n",
       "    </tr>\n",
       "    <tr>\n",
       "      <th>DATA_CNT_NGHT_6M</th>\n",
       "      <td>float64</td>\n",
       "      <td>float64</td>\n",
       "    </tr>\n",
       "    <tr>\n",
       "      <th>DATA_CNT_SCH_MORN_6M</th>\n",
       "      <td>float64</td>\n",
       "      <td>float64</td>\n",
       "    </tr>\n",
       "    <tr>\n",
       "      <th>DATA_CNT_WRK_AFT_EV_6M</th>\n",
       "      <td>float64</td>\n",
       "      <td>float64</td>\n",
       "    </tr>\n",
       "    <tr>\n",
       "      <th>DATA_CNT_WRK_DAY_6M</th>\n",
       "      <td>float64</td>\n",
       "      <td>float64</td>\n",
       "    </tr>\n",
       "    <tr>\n",
       "      <th>SMS_CNT_EV_6M</th>\n",
       "      <td>float64</td>\n",
       "      <td>float64</td>\n",
       "    </tr>\n",
       "    <tr>\n",
       "      <th>SMS_CNT_NGHT_6M</th>\n",
       "      <td>float64</td>\n",
       "      <td>float64</td>\n",
       "    </tr>\n",
       "    <tr>\n",
       "      <th>SMS_CNT_SCH_MORN_6M</th>\n",
       "      <td>float64</td>\n",
       "      <td>float64</td>\n",
       "    </tr>\n",
       "    <tr>\n",
       "      <th>SMS_CNT_WRK_AFT_EV_6M</th>\n",
       "      <td>float64</td>\n",
       "      <td>float64</td>\n",
       "    </tr>\n",
       "    <tr>\n",
       "      <th>SMS_CNT_WRK_DAY_6M</th>\n",
       "      <td>float64</td>\n",
       "      <td>float64</td>\n",
       "    </tr>\n",
       "    <tr>\n",
       "      <th>VOICE_CNT_EV_6M</th>\n",
       "      <td>float64</td>\n",
       "      <td>float64</td>\n",
       "    </tr>\n",
       "    <tr>\n",
       "      <th>VOICE_CNT_NGHT_6M</th>\n",
       "      <td>float64</td>\n",
       "      <td>float64</td>\n",
       "    </tr>\n",
       "    <tr>\n",
       "      <th>VOICE_SCH_MORN_6M</th>\n",
       "      <td>float64</td>\n",
       "      <td>float64</td>\n",
       "    </tr>\n",
       "    <tr>\n",
       "      <th>VOICE_WRK_AFT_EV_6M</th>\n",
       "      <td>float64</td>\n",
       "      <td>float64</td>\n",
       "    </tr>\n",
       "    <tr>\n",
       "      <th>VOICE_CNT_WRK_DAY_6M</th>\n",
       "      <td>float64</td>\n",
       "      <td>float64</td>\n",
       "    </tr>\n",
       "    <tr>\n",
       "      <th>VOICE_DUR_EV_6M</th>\n",
       "      <td>float64</td>\n",
       "      <td>float64</td>\n",
       "    </tr>\n",
       "    <tr>\n",
       "      <th>VOICE_DUR_NGHT_6M</th>\n",
       "      <td>float64</td>\n",
       "      <td>float64</td>\n",
       "    </tr>\n",
       "    <tr>\n",
       "      <th>VOICE_DUR_SCH_MORN_6M</th>\n",
       "      <td>float64</td>\n",
       "      <td>float64</td>\n",
       "    </tr>\n",
       "    <tr>\n",
       "      <th>VOICE_DUR_WRK_AFT_EV_6M</th>\n",
       "      <td>float64</td>\n",
       "      <td>float64</td>\n",
       "    </tr>\n",
       "    <tr>\n",
       "      <th>VOICE_DUR_WRK_DAY_6M</th>\n",
       "      <td>float64</td>\n",
       "      <td>float64</td>\n",
       "    </tr>\n",
       "    <tr>\n",
       "      <th>IS_RETIREE</th>\n",
       "      <td>int64</td>\n",
       "      <td>NaN</td>\n",
       "    </tr>\n",
       "  </tbody>\n",
       "</table>\n",
       "</div>"
      ],
      "text/plain": [
       "                           Train     Test\n",
       "SUBS_ID                   object   object\n",
       "AVG_CHARGE_3M_GROUP        int64    int64\n",
       "V_OUT_INT_DUR_3M         float64  float64\n",
       "V_IN_INT_DUR_3M          float64  float64\n",
       "V_OUT_INT_CNT_3M         float64  float64\n",
       "V_IN_INT_CNT_3M          float64  float64\n",
       "V_OUT_DUR_3M             float64  float64\n",
       "V_IN_DUR_3M              float64  float64\n",
       "V_OUT_CNT_3M             float64  float64\n",
       "V_IN_CNT_3M              float64  float64\n",
       "REFILLED_3M              float64  float64\n",
       "DATA_MB_3M               float64  float64\n",
       "CNT_SMS_3M               float64  float64\n",
       "CNT_MMS_3M               float64  float64\n",
       "OUT_ROUM_MIN_3M          float64  float64\n",
       "IN_ROUM_MIN_3M           float64  float64\n",
       "OUT_ROUM_CNT_3M          float64  float64\n",
       "IN_ROUM_CNT_3M           float64  float64\n",
       "HANDSET_VENDOR_CVAL       object   object\n",
       "SUPPORT_3G               float64  float64\n",
       "HANDSET_TYPE              object   object\n",
       "DATA_CNT_EV_6M           float64  float64\n",
       "DATA_CNT_NGHT_6M         float64  float64\n",
       "DATA_CNT_SCH_MORN_6M     float64  float64\n",
       "DATA_CNT_WRK_AFT_EV_6M   float64  float64\n",
       "DATA_CNT_WRK_DAY_6M      float64  float64\n",
       "SMS_CNT_EV_6M            float64  float64\n",
       "SMS_CNT_NGHT_6M          float64  float64\n",
       "SMS_CNT_SCH_MORN_6M      float64  float64\n",
       "SMS_CNT_WRK_AFT_EV_6M    float64  float64\n",
       "SMS_CNT_WRK_DAY_6M       float64  float64\n",
       "VOICE_CNT_EV_6M          float64  float64\n",
       "VOICE_CNT_NGHT_6M        float64  float64\n",
       "VOICE_SCH_MORN_6M        float64  float64\n",
       "VOICE_WRK_AFT_EV_6M      float64  float64\n",
       "VOICE_CNT_WRK_DAY_6M     float64  float64\n",
       "VOICE_DUR_EV_6M          float64  float64\n",
       "VOICE_DUR_NGHT_6M        float64  float64\n",
       "VOICE_DUR_SCH_MORN_6M    float64  float64\n",
       "VOICE_DUR_WRK_AFT_EV_6M  float64  float64\n",
       "VOICE_DUR_WRK_DAY_6M     float64  float64\n",
       "IS_RETIREE                 int64      NaN"
      ]
     },
     "execution_count": 3,
     "metadata": {},
     "output_type": "execute_result"
    }
   ],
   "source": [
    "pd.DataFrame([raw_training_data.dtypes, raw_test_data.dtypes], index=['Train','Test'], \n",
    "             columns=raw_training_data.columns).transpose()"
   ]
  },
  {
   "cell_type": "markdown",
   "metadata": {},
   "source": [
    "Кроме ключа только два поля нечисловые - HANDSET_VENDOR_CVAL и HANDSET_TYPE. Посмотрим, какие значения они принимают:"
   ]
  },
  {
   "cell_type": "code",
   "execution_count": 4,
   "metadata": {
    "collapsed": false
   },
   "outputs": [
    {
     "data": {
      "text/plain": [
       "{'HANDSET_TYPE': array(['26c96577', '14cec58a', 'b698bfae', '76f9033c', '7e04d707',\n",
       "        'cdc6dcbd', '3ec4d8ee'], dtype=object),\n",
       " 'HANDSET_VENDOR_CVAL': array(['13f85d7f', '1e12951', '3ff121', '4f263988', '9d739b49', 'ec450b08',\n",
       "        'ec10fb23', 'cfe6ac95', '647c1b8c', 'e3507dbf', '207c39a',\n",
       "        'c28ff45a', 'f3bbf1aa', '4c7c5da3', '8fd12e90', '371db360',\n",
       "        'efe57266', 'b698bfae', '1ad12908', '8464191f', '6bf8b75c',\n",
       "        '334e015c', 'baf02cc4', '5a082af2', 'ccac2410', '58951489',\n",
       "        '315b32bb', '4961ced5', 'c66a35f4', '498a95f4', '7dfafc69',\n",
       "        'f64d7f38', '54237711', '8ce2d777', 'f584ffc9', '62e9acb5',\n",
       "        '8f952bca', 'b1ce6e6a', '86ea82ab', 'de9dcac1', '8ad74ffa',\n",
       "        '4bc753c7', '994471d3', '7fccba87', '7079d5a7', '8a677fe0',\n",
       "        'c74e833c', '1e907434', 'bea560e3', '98605eec', 'b0d4070f',\n",
       "        'fe9e5a9f', '7d629f7c', 'bd71c715', '5adde92d', '575e71f5',\n",
       "        'fff5c034', 'c6c85eb6', 'ddef815d', 'e5759c9e', '5414be82',\n",
       "        'eb760cc6', '75c16bfe', 'e9e338b3', '83b1b4aa', '1ec73f21',\n",
       "        'e8b1559a', 'c011d925', '56c7046f', '3dd27a36', 'b575a647',\n",
       "        '493c4f5e', 'b11f4686', '141ca64e', 'faa76067', '7f647427',\n",
       "        'd1e6ad39', 'f25f87ad', '3e176b31', 'b06b78b8', 'd54e48c9',\n",
       "        '214f2ef6', '1a130218', 'c60f94ce', '492f8a10', '7689a40f',\n",
       "        '37a85553', 'e1068bd0', '3f24a8d1', '31de0101', 'c4ed28de',\n",
       "        '7df4b178', '97d99333', 'c08b092b', 'dc2dd176', 'b0e87f89',\n",
       "        'dea5cc15', '9aa71dbc', '4441be35', '97e134d1', '10c50c8d',\n",
       "        '614833ca', '34806e13', '99dca768', '39528a13', '7b8ddd2b',\n",
       "        'd9f0a9f4', 'ef32edab', '7904d283', 'af469c02', '3ca24b3f',\n",
       "        'c629db52', 'bd490fd4', '77508abd', '7fb7e799', 'd349b109',\n",
       "        'a8090a2d', 'ddc3e727', '644a89bf', 'fd69040f', '2cd3c63d',\n",
       "        '496214fa', 'fda9a2ee', '9b52fcdc', '79c2e4f0', 'b56c3c2',\n",
       "        '327c7705', 'f3b28c3d', '68c3f061', '1179389d', 'e355fe01',\n",
       "        'c988ae37', '26f2e4f2', '70bf3801', '367a2df5'], dtype=object)}"
      ]
     },
     "execution_count": 4,
     "metadata": {},
     "output_type": "execute_result"
    }
   ],
   "source": [
    "cathegorical = {a: raw_training_data[a].append(raw_test_data[a]).unique() for a in ['HANDSET_VENDOR_CVAL', 'HANDSET_TYPE']}\n",
    "cathegorical"
   ]
  },
  {
   "cell_type": "markdown",
   "metadata": {},
   "source": [
    "Теперь посмотрим на пустые значения"
   ]
  },
  {
   "cell_type": "code",
   "execution_count": 5,
   "metadata": {
    "collapsed": false
   },
   "outputs": [
    {
     "data": {
      "text/html": [
       "<div>\n",
       "<table border=\"1\" class=\"dataframe\">\n",
       "  <thead>\n",
       "    <tr style=\"text-align: right;\">\n",
       "      <th></th>\n",
       "      <th>Train</th>\n",
       "      <th>Test</th>\n",
       "    </tr>\n",
       "  </thead>\n",
       "  <tbody>\n",
       "    <tr>\n",
       "      <th>SUBS_ID</th>\n",
       "      <td>0</td>\n",
       "      <td>0</td>\n",
       "    </tr>\n",
       "    <tr>\n",
       "      <th>AVG_CHARGE_3M_GROUP</th>\n",
       "      <td>0</td>\n",
       "      <td>0</td>\n",
       "    </tr>\n",
       "    <tr>\n",
       "      <th>V_OUT_INT_DUR_3M</th>\n",
       "      <td>1</td>\n",
       "      <td>1</td>\n",
       "    </tr>\n",
       "    <tr>\n",
       "      <th>V_IN_INT_DUR_3M</th>\n",
       "      <td>1</td>\n",
       "      <td>1</td>\n",
       "    </tr>\n",
       "    <tr>\n",
       "      <th>V_OUT_INT_CNT_3M</th>\n",
       "      <td>1</td>\n",
       "      <td>1</td>\n",
       "    </tr>\n",
       "    <tr>\n",
       "      <th>V_IN_INT_CNT_3M</th>\n",
       "      <td>1</td>\n",
       "      <td>1</td>\n",
       "    </tr>\n",
       "    <tr>\n",
       "      <th>V_OUT_DUR_3M</th>\n",
       "      <td>1</td>\n",
       "      <td>1</td>\n",
       "    </tr>\n",
       "    <tr>\n",
       "      <th>V_IN_DUR_3M</th>\n",
       "      <td>1</td>\n",
       "      <td>1</td>\n",
       "    </tr>\n",
       "    <tr>\n",
       "      <th>V_OUT_CNT_3M</th>\n",
       "      <td>1</td>\n",
       "      <td>1</td>\n",
       "    </tr>\n",
       "    <tr>\n",
       "      <th>V_IN_CNT_3M</th>\n",
       "      <td>1</td>\n",
       "      <td>1</td>\n",
       "    </tr>\n",
       "    <tr>\n",
       "      <th>REFILLED_3M</th>\n",
       "      <td>1</td>\n",
       "      <td>1</td>\n",
       "    </tr>\n",
       "    <tr>\n",
       "      <th>DATA_MB_3M</th>\n",
       "      <td>1</td>\n",
       "      <td>1</td>\n",
       "    </tr>\n",
       "    <tr>\n",
       "      <th>CNT_SMS_3M</th>\n",
       "      <td>1</td>\n",
       "      <td>1</td>\n",
       "    </tr>\n",
       "    <tr>\n",
       "      <th>CNT_MMS_3M</th>\n",
       "      <td>1</td>\n",
       "      <td>1</td>\n",
       "    </tr>\n",
       "    <tr>\n",
       "      <th>OUT_ROUM_MIN_3M</th>\n",
       "      <td>1</td>\n",
       "      <td>1</td>\n",
       "    </tr>\n",
       "    <tr>\n",
       "      <th>IN_ROUM_MIN_3M</th>\n",
       "      <td>1</td>\n",
       "      <td>1</td>\n",
       "    </tr>\n",
       "    <tr>\n",
       "      <th>OUT_ROUM_CNT_3M</th>\n",
       "      <td>1</td>\n",
       "      <td>1</td>\n",
       "    </tr>\n",
       "    <tr>\n",
       "      <th>IN_ROUM_CNT_3M</th>\n",
       "      <td>1</td>\n",
       "      <td>1</td>\n",
       "    </tr>\n",
       "    <tr>\n",
       "      <th>HANDSET_VENDOR_CVAL</th>\n",
       "      <td>0</td>\n",
       "      <td>0</td>\n",
       "    </tr>\n",
       "    <tr>\n",
       "      <th>SUPPORT_3G</th>\n",
       "      <td>5693</td>\n",
       "      <td>3094</td>\n",
       "    </tr>\n",
       "    <tr>\n",
       "      <th>HANDSET_TYPE</th>\n",
       "      <td>0</td>\n",
       "      <td>0</td>\n",
       "    </tr>\n",
       "    <tr>\n",
       "      <th>DATA_CNT_EV_6M</th>\n",
       "      <td>3</td>\n",
       "      <td>0</td>\n",
       "    </tr>\n",
       "    <tr>\n",
       "      <th>DATA_CNT_NGHT_6M</th>\n",
       "      <td>143</td>\n",
       "      <td>75</td>\n",
       "    </tr>\n",
       "    <tr>\n",
       "      <th>DATA_CNT_SCH_MORN_6M</th>\n",
       "      <td>8</td>\n",
       "      <td>1</td>\n",
       "    </tr>\n",
       "    <tr>\n",
       "      <th>DATA_CNT_WRK_AFT_EV_6M</th>\n",
       "      <td>4</td>\n",
       "      <td>1</td>\n",
       "    </tr>\n",
       "    <tr>\n",
       "      <th>DATA_CNT_WRK_DAY_6M</th>\n",
       "      <td>0</td>\n",
       "      <td>0</td>\n",
       "    </tr>\n",
       "    <tr>\n",
       "      <th>SMS_CNT_EV_6M</th>\n",
       "      <td>3</td>\n",
       "      <td>0</td>\n",
       "    </tr>\n",
       "    <tr>\n",
       "      <th>SMS_CNT_NGHT_6M</th>\n",
       "      <td>143</td>\n",
       "      <td>75</td>\n",
       "    </tr>\n",
       "    <tr>\n",
       "      <th>SMS_CNT_SCH_MORN_6M</th>\n",
       "      <td>8</td>\n",
       "      <td>1</td>\n",
       "    </tr>\n",
       "    <tr>\n",
       "      <th>SMS_CNT_WRK_AFT_EV_6M</th>\n",
       "      <td>4</td>\n",
       "      <td>1</td>\n",
       "    </tr>\n",
       "    <tr>\n",
       "      <th>SMS_CNT_WRK_DAY_6M</th>\n",
       "      <td>0</td>\n",
       "      <td>0</td>\n",
       "    </tr>\n",
       "    <tr>\n",
       "      <th>VOICE_CNT_EV_6M</th>\n",
       "      <td>3</td>\n",
       "      <td>0</td>\n",
       "    </tr>\n",
       "    <tr>\n",
       "      <th>VOICE_CNT_NGHT_6M</th>\n",
       "      <td>143</td>\n",
       "      <td>75</td>\n",
       "    </tr>\n",
       "    <tr>\n",
       "      <th>VOICE_SCH_MORN_6M</th>\n",
       "      <td>8</td>\n",
       "      <td>1</td>\n",
       "    </tr>\n",
       "    <tr>\n",
       "      <th>VOICE_WRK_AFT_EV_6M</th>\n",
       "      <td>4</td>\n",
       "      <td>1</td>\n",
       "    </tr>\n",
       "    <tr>\n",
       "      <th>VOICE_CNT_WRK_DAY_6M</th>\n",
       "      <td>0</td>\n",
       "      <td>0</td>\n",
       "    </tr>\n",
       "    <tr>\n",
       "      <th>VOICE_DUR_EV_6M</th>\n",
       "      <td>3</td>\n",
       "      <td>0</td>\n",
       "    </tr>\n",
       "    <tr>\n",
       "      <th>VOICE_DUR_NGHT_6M</th>\n",
       "      <td>143</td>\n",
       "      <td>75</td>\n",
       "    </tr>\n",
       "    <tr>\n",
       "      <th>VOICE_DUR_SCH_MORN_6M</th>\n",
       "      <td>8</td>\n",
       "      <td>1</td>\n",
       "    </tr>\n",
       "    <tr>\n",
       "      <th>VOICE_DUR_WRK_AFT_EV_6M</th>\n",
       "      <td>4</td>\n",
       "      <td>1</td>\n",
       "    </tr>\n",
       "    <tr>\n",
       "      <th>VOICE_DUR_WRK_DAY_6M</th>\n",
       "      <td>0</td>\n",
       "      <td>0</td>\n",
       "    </tr>\n",
       "    <tr>\n",
       "      <th>IS_RETIREE</th>\n",
       "      <td>0</td>\n",
       "      <td>NaN</td>\n",
       "    </tr>\n",
       "  </tbody>\n",
       "</table>\n",
       "</div>"
      ],
      "text/plain": [
       "                         Train  Test\n",
       "SUBS_ID                      0     0\n",
       "AVG_CHARGE_3M_GROUP          0     0\n",
       "V_OUT_INT_DUR_3M             1     1\n",
       "V_IN_INT_DUR_3M              1     1\n",
       "V_OUT_INT_CNT_3M             1     1\n",
       "V_IN_INT_CNT_3M              1     1\n",
       "V_OUT_DUR_3M                 1     1\n",
       "V_IN_DUR_3M                  1     1\n",
       "V_OUT_CNT_3M                 1     1\n",
       "V_IN_CNT_3M                  1     1\n",
       "REFILLED_3M                  1     1\n",
       "DATA_MB_3M                   1     1\n",
       "CNT_SMS_3M                   1     1\n",
       "CNT_MMS_3M                   1     1\n",
       "OUT_ROUM_MIN_3M              1     1\n",
       "IN_ROUM_MIN_3M               1     1\n",
       "OUT_ROUM_CNT_3M              1     1\n",
       "IN_ROUM_CNT_3M               1     1\n",
       "HANDSET_VENDOR_CVAL          0     0\n",
       "SUPPORT_3G                5693  3094\n",
       "HANDSET_TYPE                 0     0\n",
       "DATA_CNT_EV_6M               3     0\n",
       "DATA_CNT_NGHT_6M           143    75\n",
       "DATA_CNT_SCH_MORN_6M         8     1\n",
       "DATA_CNT_WRK_AFT_EV_6M       4     1\n",
       "DATA_CNT_WRK_DAY_6M          0     0\n",
       "SMS_CNT_EV_6M                3     0\n",
       "SMS_CNT_NGHT_6M            143    75\n",
       "SMS_CNT_SCH_MORN_6M          8     1\n",
       "SMS_CNT_WRK_AFT_EV_6M        4     1\n",
       "SMS_CNT_WRK_DAY_6M           0     0\n",
       "VOICE_CNT_EV_6M              3     0\n",
       "VOICE_CNT_NGHT_6M          143    75\n",
       "VOICE_SCH_MORN_6M            8     1\n",
       "VOICE_WRK_AFT_EV_6M          4     1\n",
       "VOICE_CNT_WRK_DAY_6M         0     0\n",
       "VOICE_DUR_EV_6M              3     0\n",
       "VOICE_DUR_NGHT_6M          143    75\n",
       "VOICE_DUR_SCH_MORN_6M        8     1\n",
       "VOICE_DUR_WRK_AFT_EV_6M      4     1\n",
       "VOICE_DUR_WRK_DAY_6M         0     0\n",
       "IS_RETIREE                   0   NaN"
      ]
     },
     "execution_count": 5,
     "metadata": {},
     "output_type": "execute_result"
    }
   ],
   "source": [
    "pd.DataFrame([raw_training_data.isnull().sum(), raw_test_data.isnull().sum()], index=['Train','Test'], \n",
    "             columns=raw_training_data.columns).transpose()"
   ]
  },
  {
   "cell_type": "markdown",
   "metadata": {},
   "source": [
    "Можно выделить несколько групп:\n",
    "\n",
    "* Поле SUPPORT_3G - возможно, пустое поле означает отсутствие поддержки 3G\n",
    "* Поля, содержащие ночные данные - [DATA_CNT_NGHT_6M, SMS_CNT_NGHT_6M, VOICE_CNT_NGHT_6M, VOICE_DUR_NGHT_6M] - может означать отсутствие данных и их можно поробовать заменить на 0\n",
    "* По остальным - заменим на среднее значение по столбцу\n",
    "\n",
    "Проверим, что в SUPPORT_3G пустое поле означает отсутствие поддержки 3G:"
   ]
  },
  {
   "cell_type": "code",
   "execution_count": 6,
   "metadata": {
    "collapsed": false
   },
   "outputs": [
    {
     "data": {
      "text/plain": [
       "array([ nan,   1.])"
      ]
     },
     "execution_count": 6,
     "metadata": {},
     "output_type": "execute_result"
    }
   ],
   "source": [
    "raw_training_data['SUPPORT_3G'].append(raw_test_data['SUPPORT_3G']).unique()"
   ]
  },
  {
   "cell_type": "markdown",
   "metadata": {},
   "source": [
    "Процедура чистки данных:"
   ]
  },
  {
   "cell_type": "code",
   "execution_count": 7,
   "metadata": {
    "collapsed": false
   },
   "outputs": [],
   "source": [
    "def clean_data(data):\n",
    "    data['SUPPORT_3G'].fillna(0, inplace=True)\n",
    "    data['DATA_CNT_NGHT_6M'].fillna(0, inplace=True)\n",
    "    data['SMS_CNT_NGHT_6M'].fillna(0, inplace=True)\n",
    "    data['VOICE_CNT_NGHT_6M'].fillna(0, inplace=True)\n",
    "    data['VOICE_DUR_NGHT_6M'].fillna(0, inplace=True)\n",
    "    for i in data.columns:\n",
    "        if data[i].isnull().sum() > 0:\n",
    "            data[i].fillna(data[i].mean(), inplace=True)"
   ]
  },
  {
   "cell_type": "code",
   "execution_count": 8,
   "metadata": {
    "collapsed": false
   },
   "outputs": [
    {
     "data": {
      "text/html": [
       "<div>\n",
       "<table border=\"1\" class=\"dataframe\">\n",
       "  <thead>\n",
       "    <tr style=\"text-align: right;\">\n",
       "      <th></th>\n",
       "      <th>Train</th>\n",
       "      <th>Test</th>\n",
       "    </tr>\n",
       "  </thead>\n",
       "  <tbody>\n",
       "    <tr>\n",
       "      <th>SUBS_ID</th>\n",
       "      <td>0</td>\n",
       "      <td>0</td>\n",
       "    </tr>\n",
       "    <tr>\n",
       "      <th>AVG_CHARGE_3M_GROUP</th>\n",
       "      <td>0</td>\n",
       "      <td>0</td>\n",
       "    </tr>\n",
       "    <tr>\n",
       "      <th>V_OUT_INT_DUR_3M</th>\n",
       "      <td>0</td>\n",
       "      <td>0</td>\n",
       "    </tr>\n",
       "    <tr>\n",
       "      <th>V_IN_INT_DUR_3M</th>\n",
       "      <td>0</td>\n",
       "      <td>0</td>\n",
       "    </tr>\n",
       "    <tr>\n",
       "      <th>V_OUT_INT_CNT_3M</th>\n",
       "      <td>0</td>\n",
       "      <td>0</td>\n",
       "    </tr>\n",
       "    <tr>\n",
       "      <th>V_IN_INT_CNT_3M</th>\n",
       "      <td>0</td>\n",
       "      <td>0</td>\n",
       "    </tr>\n",
       "    <tr>\n",
       "      <th>V_OUT_DUR_3M</th>\n",
       "      <td>0</td>\n",
       "      <td>0</td>\n",
       "    </tr>\n",
       "    <tr>\n",
       "      <th>V_IN_DUR_3M</th>\n",
       "      <td>0</td>\n",
       "      <td>0</td>\n",
       "    </tr>\n",
       "    <tr>\n",
       "      <th>V_OUT_CNT_3M</th>\n",
       "      <td>0</td>\n",
       "      <td>0</td>\n",
       "    </tr>\n",
       "    <tr>\n",
       "      <th>V_IN_CNT_3M</th>\n",
       "      <td>0</td>\n",
       "      <td>0</td>\n",
       "    </tr>\n",
       "    <tr>\n",
       "      <th>REFILLED_3M</th>\n",
       "      <td>0</td>\n",
       "      <td>0</td>\n",
       "    </tr>\n",
       "    <tr>\n",
       "      <th>DATA_MB_3M</th>\n",
       "      <td>0</td>\n",
       "      <td>0</td>\n",
       "    </tr>\n",
       "    <tr>\n",
       "      <th>CNT_SMS_3M</th>\n",
       "      <td>0</td>\n",
       "      <td>0</td>\n",
       "    </tr>\n",
       "    <tr>\n",
       "      <th>CNT_MMS_3M</th>\n",
       "      <td>0</td>\n",
       "      <td>0</td>\n",
       "    </tr>\n",
       "    <tr>\n",
       "      <th>OUT_ROUM_MIN_3M</th>\n",
       "      <td>0</td>\n",
       "      <td>0</td>\n",
       "    </tr>\n",
       "    <tr>\n",
       "      <th>IN_ROUM_MIN_3M</th>\n",
       "      <td>0</td>\n",
       "      <td>0</td>\n",
       "    </tr>\n",
       "    <tr>\n",
       "      <th>OUT_ROUM_CNT_3M</th>\n",
       "      <td>0</td>\n",
       "      <td>0</td>\n",
       "    </tr>\n",
       "    <tr>\n",
       "      <th>IN_ROUM_CNT_3M</th>\n",
       "      <td>0</td>\n",
       "      <td>0</td>\n",
       "    </tr>\n",
       "    <tr>\n",
       "      <th>HANDSET_VENDOR_CVAL</th>\n",
       "      <td>0</td>\n",
       "      <td>0</td>\n",
       "    </tr>\n",
       "    <tr>\n",
       "      <th>SUPPORT_3G</th>\n",
       "      <td>0</td>\n",
       "      <td>0</td>\n",
       "    </tr>\n",
       "    <tr>\n",
       "      <th>HANDSET_TYPE</th>\n",
       "      <td>0</td>\n",
       "      <td>0</td>\n",
       "    </tr>\n",
       "    <tr>\n",
       "      <th>DATA_CNT_EV_6M</th>\n",
       "      <td>0</td>\n",
       "      <td>0</td>\n",
       "    </tr>\n",
       "    <tr>\n",
       "      <th>DATA_CNT_NGHT_6M</th>\n",
       "      <td>0</td>\n",
       "      <td>0</td>\n",
       "    </tr>\n",
       "    <tr>\n",
       "      <th>DATA_CNT_SCH_MORN_6M</th>\n",
       "      <td>0</td>\n",
       "      <td>0</td>\n",
       "    </tr>\n",
       "    <tr>\n",
       "      <th>DATA_CNT_WRK_AFT_EV_6M</th>\n",
       "      <td>0</td>\n",
       "      <td>0</td>\n",
       "    </tr>\n",
       "    <tr>\n",
       "      <th>DATA_CNT_WRK_DAY_6M</th>\n",
       "      <td>0</td>\n",
       "      <td>0</td>\n",
       "    </tr>\n",
       "    <tr>\n",
       "      <th>SMS_CNT_EV_6M</th>\n",
       "      <td>0</td>\n",
       "      <td>0</td>\n",
       "    </tr>\n",
       "    <tr>\n",
       "      <th>SMS_CNT_NGHT_6M</th>\n",
       "      <td>0</td>\n",
       "      <td>0</td>\n",
       "    </tr>\n",
       "    <tr>\n",
       "      <th>SMS_CNT_SCH_MORN_6M</th>\n",
       "      <td>0</td>\n",
       "      <td>0</td>\n",
       "    </tr>\n",
       "    <tr>\n",
       "      <th>SMS_CNT_WRK_AFT_EV_6M</th>\n",
       "      <td>0</td>\n",
       "      <td>0</td>\n",
       "    </tr>\n",
       "    <tr>\n",
       "      <th>SMS_CNT_WRK_DAY_6M</th>\n",
       "      <td>0</td>\n",
       "      <td>0</td>\n",
       "    </tr>\n",
       "    <tr>\n",
       "      <th>VOICE_CNT_EV_6M</th>\n",
       "      <td>0</td>\n",
       "      <td>0</td>\n",
       "    </tr>\n",
       "    <tr>\n",
       "      <th>VOICE_CNT_NGHT_6M</th>\n",
       "      <td>0</td>\n",
       "      <td>0</td>\n",
       "    </tr>\n",
       "    <tr>\n",
       "      <th>VOICE_SCH_MORN_6M</th>\n",
       "      <td>0</td>\n",
       "      <td>0</td>\n",
       "    </tr>\n",
       "    <tr>\n",
       "      <th>VOICE_WRK_AFT_EV_6M</th>\n",
       "      <td>0</td>\n",
       "      <td>0</td>\n",
       "    </tr>\n",
       "    <tr>\n",
       "      <th>VOICE_CNT_WRK_DAY_6M</th>\n",
       "      <td>0</td>\n",
       "      <td>0</td>\n",
       "    </tr>\n",
       "    <tr>\n",
       "      <th>VOICE_DUR_EV_6M</th>\n",
       "      <td>0</td>\n",
       "      <td>0</td>\n",
       "    </tr>\n",
       "    <tr>\n",
       "      <th>VOICE_DUR_NGHT_6M</th>\n",
       "      <td>0</td>\n",
       "      <td>0</td>\n",
       "    </tr>\n",
       "    <tr>\n",
       "      <th>VOICE_DUR_SCH_MORN_6M</th>\n",
       "      <td>0</td>\n",
       "      <td>0</td>\n",
       "    </tr>\n",
       "    <tr>\n",
       "      <th>VOICE_DUR_WRK_AFT_EV_6M</th>\n",
       "      <td>0</td>\n",
       "      <td>0</td>\n",
       "    </tr>\n",
       "    <tr>\n",
       "      <th>VOICE_DUR_WRK_DAY_6M</th>\n",
       "      <td>0</td>\n",
       "      <td>0</td>\n",
       "    </tr>\n",
       "    <tr>\n",
       "      <th>IS_RETIREE</th>\n",
       "      <td>0</td>\n",
       "      <td>NaN</td>\n",
       "    </tr>\n",
       "  </tbody>\n",
       "</table>\n",
       "</div>"
      ],
      "text/plain": [
       "                         Train  Test\n",
       "SUBS_ID                      0     0\n",
       "AVG_CHARGE_3M_GROUP          0     0\n",
       "V_OUT_INT_DUR_3M             0     0\n",
       "V_IN_INT_DUR_3M              0     0\n",
       "V_OUT_INT_CNT_3M             0     0\n",
       "V_IN_INT_CNT_3M              0     0\n",
       "V_OUT_DUR_3M                 0     0\n",
       "V_IN_DUR_3M                  0     0\n",
       "V_OUT_CNT_3M                 0     0\n",
       "V_IN_CNT_3M                  0     0\n",
       "REFILLED_3M                  0     0\n",
       "DATA_MB_3M                   0     0\n",
       "CNT_SMS_3M                   0     0\n",
       "CNT_MMS_3M                   0     0\n",
       "OUT_ROUM_MIN_3M              0     0\n",
       "IN_ROUM_MIN_3M               0     0\n",
       "OUT_ROUM_CNT_3M              0     0\n",
       "IN_ROUM_CNT_3M               0     0\n",
       "HANDSET_VENDOR_CVAL          0     0\n",
       "SUPPORT_3G                   0     0\n",
       "HANDSET_TYPE                 0     0\n",
       "DATA_CNT_EV_6M               0     0\n",
       "DATA_CNT_NGHT_6M             0     0\n",
       "DATA_CNT_SCH_MORN_6M         0     0\n",
       "DATA_CNT_WRK_AFT_EV_6M       0     0\n",
       "DATA_CNT_WRK_DAY_6M          0     0\n",
       "SMS_CNT_EV_6M                0     0\n",
       "SMS_CNT_NGHT_6M              0     0\n",
       "SMS_CNT_SCH_MORN_6M          0     0\n",
       "SMS_CNT_WRK_AFT_EV_6M        0     0\n",
       "SMS_CNT_WRK_DAY_6M           0     0\n",
       "VOICE_CNT_EV_6M              0     0\n",
       "VOICE_CNT_NGHT_6M            0     0\n",
       "VOICE_SCH_MORN_6M            0     0\n",
       "VOICE_WRK_AFT_EV_6M          0     0\n",
       "VOICE_CNT_WRK_DAY_6M         0     0\n",
       "VOICE_DUR_EV_6M              0     0\n",
       "VOICE_DUR_NGHT_6M            0     0\n",
       "VOICE_DUR_SCH_MORN_6M        0     0\n",
       "VOICE_DUR_WRK_AFT_EV_6M      0     0\n",
       "VOICE_DUR_WRK_DAY_6M         0     0\n",
       "IS_RETIREE                   0   NaN"
      ]
     },
     "execution_count": 8,
     "metadata": {},
     "output_type": "execute_result"
    }
   ],
   "source": [
    "clean_data(raw_training_data)\n",
    "clean_data(raw_test_data)\n",
    "\n",
    "pd.DataFrame([raw_training_data.isnull().sum(), raw_test_data.isnull().sum()], index=['Train','Test'], \n",
    "             columns=raw_training_data.columns).transpose()"
   ]
  },
  {
   "cell_type": "markdown",
   "metadata": {
    "collapsed": false
   },
   "source": [
    "Применим Dummy-кодирование к категориальным данным"
   ]
  },
  {
   "cell_type": "code",
   "execution_count": 9,
   "metadata": {
    "collapsed": false
   },
   "outputs": [],
   "source": [
    "def cathegorical_dummy(data, cat):\n",
    "    res = data.copy()\n",
    "    for k in cat:\n",
    "        for i in cat.get(k):\n",
    "            new_name = k + '_' + i\n",
    "            res[new_name] = np.where(res[k] == i, 1, 0)\n",
    "        res.drop(k, axis=1, inplace=True)\n",
    "    return res"
   ]
  },
  {
   "cell_type": "code",
   "execution_count": 10,
   "metadata": {
    "collapsed": false
   },
   "outputs": [],
   "source": [
    "training_data = cathegorical_dummy(raw_training_data, cathegorical)\n",
    "test_data = cathegorical_dummy(raw_test_data, cathegorical)"
   ]
  },
  {
   "cell_type": "markdown",
   "metadata": {},
   "source": [
    "## Логистическая регрессия"
   ]
  },
  {
   "cell_type": "code",
   "execution_count": 11,
   "metadata": {
    "collapsed": true
   },
   "outputs": [],
   "source": [
    "from sklearn import metrics\n",
    "from sklearn.linear_model import LogisticRegression"
   ]
  },
  {
   "cell_type": "code",
   "execution_count": 12,
   "metadata": {
    "collapsed": false
   },
   "outputs": [
    {
     "name": "stdout",
     "output_type": "stream",
     "text": [
      "LogisticRegression(C=1.0, class_weight=None, dual=False, fit_intercept=True,\n",
      "          intercept_scaling=1, max_iter=100, multi_class='ovr', n_jobs=1,\n",
      "          penalty='l2', random_state=None, solver='liblinear', tol=0.0001,\n",
      "          verbose=0, warm_start=False)\n"
     ]
    }
   ],
   "source": [
    "model = LogisticRegression()\n",
    "model = model.fit(training_data.drop(['SUBS_ID', 'IS_RETIREE'], axis=1), training_data['IS_RETIREE'])\n",
    "print(model)\n",
    "# make predictions\n",
    "expected = training_data['IS_RETIREE']\n",
    "predicted = model.predict_proba(training_data.drop(['SUBS_ID', 'IS_RETIREE'], axis=1))\n",
    "# summarize the fit of the model\n",
    "#print(metrics.classification_report(expected, predicted))\n",
    "#print(metrics.confusion_matrix(expected, predicted))"
   ]
  },
  {
   "cell_type": "code",
   "execution_count": 13,
   "metadata": {
    "collapsed": false
   },
   "outputs": [],
   "source": [
    "predicted_on_test = model.predict_proba(test_data.drop('SUBS_ID', axis=1))"
   ]
  },
  {
   "cell_type": "code",
   "execution_count": 14,
   "metadata": {
    "collapsed": false
   },
   "outputs": [],
   "source": [
    "res_to_kaggle = pd.DataFrame([test_data['SUBS_ID'].values, predicted_on_test[:,1]], index=['SUBS_ID', 'IS_RETIREE']).T"
   ]
  },
  {
   "cell_type": "code",
   "execution_count": 15,
   "metadata": {
    "collapsed": false
   },
   "outputs": [],
   "source": [
    "res_to_kaggle.to_csv(\"res_to_kaggle.csv\", index = False, quoting=2) #Kaggle in class 0.72488"
   ]
  },
  {
   "cell_type": "markdown",
   "metadata": {},
   "source": [
    "### То же самое, но PCA до 5 фич"
   ]
  },
  {
   "cell_type": "code",
   "execution_count": 16,
   "metadata": {
    "collapsed": false
   },
   "outputs": [
    {
     "data": {
      "text/plain": [
       "PCA(copy=True, n_components=180, whiten=False)"
      ]
     },
     "execution_count": 16,
     "metadata": {},
     "output_type": "execute_result"
    }
   ],
   "source": [
    "import numpy as np\n",
    "from sklearn.decomposition import PCA\n",
    "\n",
    "pca = PCA(n_components=180)\n",
    "pca.fit(training_data.drop(['SUBS_ID', 'IS_RETIREE'], axis=1))"
   ]
  },
  {
   "cell_type": "code",
   "execution_count": 17,
   "metadata": {
    "collapsed": false
   },
   "outputs": [],
   "source": [
    "pca_train = pca.transform(training_data.drop(['SUBS_ID', 'IS_RETIREE'], axis=1))\n",
    "pca_test = pca.transform(test_data.drop(['SUBS_ID'], axis=1))"
   ]
  },
  {
   "cell_type": "code",
   "execution_count": 18,
   "metadata": {
    "collapsed": false
   },
   "outputs": [
    {
     "name": "stdout",
     "output_type": "stream",
     "text": [
      "LogisticRegression(C=1.0, class_weight=None, dual=False, fit_intercept=True,\n",
      "          intercept_scaling=1, max_iter=100, multi_class='ovr', n_jobs=1,\n",
      "          penalty='l2', random_state=None, solver='liblinear', tol=0.0001,\n",
      "          verbose=0, warm_start=False)\n"
     ]
    }
   ],
   "source": [
    "model = LogisticRegression()\n",
    "model = model.fit(pca_train, training_data['IS_RETIREE'])\n",
    "print(model)\n",
    "# make prediction\n",
    "predicted_on_test = model.predict_proba(pca_test)"
   ]
  },
  {
   "cell_type": "code",
   "execution_count": 19,
   "metadata": {
    "collapsed": false
   },
   "outputs": [],
   "source": [
    "res_to_kaggle = pd.DataFrame([test_data['SUBS_ID'].values, predicted_on_test[:,1]], index=['SUBS_ID', 'IS_RETIREE']).T"
   ]
  },
  {
   "cell_type": "code",
   "execution_count": 20,
   "metadata": {
    "collapsed": true
   },
   "outputs": [],
   "source": [
    "res_to_kaggle.to_csv(\"res_to_kaggle.csv\", index = False, quoting=2)\n",
    "#Kaggle in class: 5 components = 0.62639; 50 components = 0.72521; 180 components = 0.72509"
   ]
  },
  {
   "cell_type": "markdown",
   "metadata": {},
   "source": [
    "### Добавим SVM"
   ]
  },
  {
   "cell_type": "code",
   "execution_count": 21,
   "metadata": {
    "collapsed": false
   },
   "outputs": [
    {
     "name": "stdout",
     "output_type": "stream",
     "text": [
      "SVC(C=1.0, cache_size=200, class_weight=None, coef0=0.0,\n",
      "  decision_function_shape=None, degree=3, gamma='auto', kernel='rbf',\n",
      "  max_iter=-1, probability=True, random_state=None, shrinking=True,\n",
      "  tol=0.001, verbose=False)\n"
     ]
    }
   ],
   "source": [
    "from sklearn import metrics\n",
    "from sklearn.svm import SVC\n",
    "# fit a SVM model to the data\n",
    "model = SVC(probability = True)\n",
    "model.fit(pca_train, training_data['IS_RETIREE'])\n",
    "print(model)"
   ]
  },
  {
   "cell_type": "code",
   "execution_count": 22,
   "metadata": {
    "collapsed": false
   },
   "outputs": [],
   "source": [
    "predicted_on_test = model.predict_proba(pca_test)"
   ]
  },
  {
   "cell_type": "code",
   "execution_count": 23,
   "metadata": {
    "collapsed": false
   },
   "outputs": [
    {
     "data": {
      "text/plain": [
       "array([[ 0.89176711,  0.10823289],\n",
       "       [ 0.89091179,  0.10908821],\n",
       "       [ 0.89094788,  0.10905212],\n",
       "       ..., \n",
       "       [ 0.8912263 ,  0.1087737 ],\n",
       "       [ 0.89080826,  0.10919174],\n",
       "       [ 0.89221096,  0.10778904]])"
      ]
     },
     "execution_count": 23,
     "metadata": {},
     "output_type": "execute_result"
    }
   ],
   "source": [
    "predicted_on_test"
   ]
  },
  {
   "cell_type": "code",
   "execution_count": 24,
   "metadata": {
    "collapsed": true
   },
   "outputs": [],
   "source": [
    "res_to_kaggle = pd.DataFrame([test_data['SUBS_ID'].values, predicted_on_test[:,1]], index=['SUBS_ID', 'IS_RETIREE']).T"
   ]
  },
  {
   "cell_type": "code",
   "execution_count": 25,
   "metadata": {
    "collapsed": true
   },
   "outputs": [],
   "source": [
    "res_to_kaggle.to_csv(\"res_to_kaggle.csv\", index = False, quoting=2)  #Kaggle in class: 0.62907"
   ]
  },
  {
   "cell_type": "markdown",
   "metadata": {
    "collapsed": true
   },
   "source": [
    "## Поиграемся с кросс-валидацией"
   ]
  },
  {
   "cell_type": "code",
   "execution_count": 26,
   "metadata": {
    "collapsed": false
   },
   "outputs": [],
   "source": [
    "from sklearn.cross_validation import train_test_split\n",
    "train, test = train_test_split(training_data, train_size=0.8, random_state=12345)\n"
   ]
  },
  {
   "cell_type": "code",
   "execution_count": 27,
   "metadata": {
    "collapsed": false
   },
   "outputs": [
    {
     "data": {
      "text/plain": [
       "[0.10578754578754579, 0.11716461628588166]"
      ]
     },
     "execution_count": 27,
     "metadata": {},
     "output_type": "execute_result"
    }
   ],
   "source": [
    "[train['IS_RETIREE'].sum() / float(train.shape[0]),\n",
    " test['IS_RETIREE'].sum() / float(test.shape[0])]"
   ]
  },
  {
   "cell_type": "code",
   "execution_count": 28,
   "metadata": {
    "collapsed": false
   },
   "outputs": [],
   "source": [
    "from sklearn.metrics import roc_auc_score\n",
    "from sklearn.svm import LinearSVC\n",
    "from sklearn.ensemble import RandomForestRegressor\n",
    "\n",
    "def test_method(atrain, atest, param, atype):\n",
    "    if atype == 0:\n",
    "        model = SVC(C = param, probability = True) #LogisticRegression() #SVC(probability = True)\n",
    "        model.fit(atrain.drop(['SUBS_ID', 'IS_RETIREE'], axis=1), atrain['IS_RETIREE'])\n",
    "    elif atype == 1:\n",
    "        model = RandomForestRegressor(n_estimators = param)\n",
    "        model.fit(atrain.drop(['SUBS_ID', 'IS_RETIREE'], axis=1), atrain['IS_RETIREE'])\n",
    "    elif atype == 2:\n",
    "        pca = PCA(n_components=180)\n",
    "        pca.fit(atrain.drop(['SUBS_ID', 'IS_RETIREE'], axis=1))\n",
    "        atrain_pca = pca.transform(atrain.drop(['SUBS_ID', 'IS_RETIREE'], axis=1))\n",
    "        model = RandomForestRegressor(n_estimators = param)\n",
    "        model.fit(atrain_pca, atrain['IS_RETIREE'])\n",
    "    \n",
    "    \n",
    "    if atype == 0:\n",
    "        predicted = model.predict_proba(atest.drop(['SUBS_ID', 'IS_RETIREE'], axis=1))\n",
    "        return [param, roc_auc_score(atest['IS_RETIREE'], predicted[:,np.dot([0, 1], model.classes_)]), model.classes_]\n",
    "    elif atype == 1:\n",
    "        predicted = model.predict(atest.drop(['SUBS_ID', 'IS_RETIREE'], axis=1))\n",
    "        predicted = [max(0, min(1, x)) for x in predicted]\n",
    "        return [param, roc_auc_score(atest['IS_RETIREE'], predicted)]\n",
    "    elif atype == 2:\n",
    "        predicted = model.predict(pca.transform(atest.drop(['SUBS_ID', 'IS_RETIREE'], axis=1)))\n",
    "        predicted = [max(0, min(1, x)) for x in predicted]\n",
    "        return [param, roc_auc_score(atest['IS_RETIREE'], predicted)]    "
   ]
  },
  {
   "cell_type": "code",
   "execution_count": 29,
   "metadata": {
    "collapsed": false
   },
   "outputs": [],
   "source": [
    "# 0.6208891838088918"
   ]
  },
  {
   "cell_type": "code",
   "execution_count": 30,
   "metadata": {
    "collapsed": false
   },
   "outputs": [],
   "source": [
    "#gr = np.arange(-5.0, 5.0, 0.5)\n",
    "\n",
    "#for g in gr:\n",
    "#    print(test_method(train, test, 10.0 ** g))"
   ]
  },
  {
   "cell_type": "raw",
   "metadata": {},
   "source": [
    "[1.0000000000000001e-05, 0.42065195753151952]\n",
    "[3.1622776601683795e-05, 0.42065361645653615]\n",
    "[0.0001, 0.57934970139349695]\n",
    "[0.00031622776601683794, 0.57934472461844722]\n",
    "[0.001, 0.57934970139349706]\n",
    "[0.0031622776601683794, 0.42065361645653615]\n",
    "[0.01, 0.44162906436629062]\n",
    "[0.031622776601683791, 0.44178168546781688]\n",
    "[0.10000000000000001, 0.41390510948905102]\n",
    "[0.31622776601683794, 0.43310053085600531]\n",
    "[1.0, 0.37910749834107499]\n",
    "[3.1622776601683791, 0.61844890510948902]\n",
    "[10.0, 0.57365627073656267]\n",
    "[31.622776601683793, 0.63294790975447912]\n",
    "[100.0, 0.36471300597213002]\n",
    "[316.2277660168379, 0.69270072992700737]\n",
    "[1000.0, 0.69288321167883216]\n",
    "[3162.2776601683795, 0.68345222295952224]\n",
    "[10000.0, 0.68404445919044454]\n",
    "[31622.776601683792, 0.6804727936297279]"
   ]
  },
  {
   "cell_type": "code",
   "execution_count": 31,
   "metadata": {
    "collapsed": false
   },
   "outputs": [],
   "source": [
    "#test_method(train, test, 100.0) #[100.0, 0.36365461181154612, array([0, 1], dtype=int64)]"
   ]
  },
  {
   "cell_type": "code",
   "execution_count": 32,
   "metadata": {
    "collapsed": false
   },
   "outputs": [],
   "source": [
    "#test_method(train, test, 100.0) #[100.0, 0.3647113470471135, array([0, 1], dtype=int64)]"
   ]
  },
  {
   "cell_type": "code",
   "execution_count": 33,
   "metadata": {
    "collapsed": false
   },
   "outputs": [],
   "source": [
    "#test_method(train, test, 100.0) #[100.0, 0.36470305242203049, array([0, 1], dtype=int64)]"
   ]
  },
  {
   "cell_type": "code",
   "execution_count": 34,
   "metadata": {
    "collapsed": false
   },
   "outputs": [],
   "source": [
    "#test_method(train, test, 100.0) #[100.0, 0.36470968812209686, array([0, 1], dtype=int64)]"
   ]
  },
  {
   "cell_type": "code",
   "execution_count": 35,
   "metadata": {
    "collapsed": false
   },
   "outputs": [],
   "source": [
    "#test_method(train, test, 100.0) #[100.0, 0.3647279362972794, array([0, 1], dtype=int64)]"
   ]
  },
  {
   "cell_type": "code",
   "execution_count": 36,
   "metadata": {
    "collapsed": false
   },
   "outputs": [],
   "source": [
    "#test_method(train, test, 1.0) #[1.0, 0.3791108161911082, array([0, 1], dtype=int64)]"
   ]
  },
  {
   "cell_type": "code",
   "execution_count": 37,
   "metadata": {
    "collapsed": false
   },
   "outputs": [],
   "source": [
    "#test_method(train, test, 0.0001) #[0.0001, 0.57934804246848048, array([0, 1], dtype=int64)]"
   ]
  },
  {
   "cell_type": "code",
   "execution_count": 38,
   "metadata": {
    "collapsed": false
   },
   "outputs": [],
   "source": [
    "#test_method(train, test, 31622.776601683792) #[31622.776601683792, 0.6804727936297279, array([0, 1], dtype=int64)]"
   ]
  },
  {
   "cell_type": "code",
   "execution_count": 39,
   "metadata": {
    "collapsed": false
   },
   "outputs": [],
   "source": [
    "#test_method(train, test, 100.1) #[100.1, 0.33307730590577306, array([0, 1], dtype=int64)]"
   ]
  },
  {
   "cell_type": "code",
   "execution_count": 40,
   "metadata": {
    "collapsed": false
   },
   "outputs": [],
   "source": [
    "#test_method(train, test, 101) #[101, 0.66063536828135372, array([0, 1], dtype=int64)]"
   ]
  },
  {
   "cell_type": "code",
   "execution_count": 41,
   "metadata": {
    "collapsed": false
   },
   "outputs": [],
   "source": [
    "#gr = np.arange(100, 101, 0.1)\n",
    "\n",
    "#for g in gr:\n",
    "#    print(test_method(train, test,  g))"
   ]
  },
  {
   "cell_type": "raw",
   "metadata": {},
   "source": [
    "[100.0, 0.36473291307232908, array([0, 1], dtype=int64)]\n",
    "[100.09999999999999, 0.33308560053085601, array([0, 1], dtype=int64)]\n",
    "[100.19999999999999, 0.33716987392169873, array([0, 1], dtype=int64)]\n",
    "[100.29999999999998, 0.36428002654280023, array([0, 1], dtype=int64)]\n",
    "[100.39999999999998, 0.4247063702720637, array([0, 1], dtype=int64)]\n",
    "[100.49999999999997, 0.36566854678168542, array([0, 1], dtype=int64)]\n",
    "[100.59999999999997, 0.63732415394824149, array([0, 1], dtype=int64)]\n",
    "[100.69999999999996, 0.34056735235567354, array([0, 1], dtype=int64)]\n",
    "[100.79999999999995, 0.34554080955540811, array([0, 1], dtype=int64)]\n",
    "[100.89999999999995, 0.64494525547445247, array([0, 1], dtype=int64)]"
   ]
  },
  {
   "cell_type": "code",
   "execution_count": 42,
   "metadata": {
    "collapsed": false
   },
   "outputs": [],
   "source": [
    "#test_method(train, test, 500, 1) #[500, 0.70621101526211028]"
   ]
  },
  {
   "cell_type": "code",
   "execution_count": 43,
   "metadata": {
    "collapsed": false
   },
   "outputs": [],
   "source": [
    "#test_method(train, test, 500, 2) #[500, 0.69130225613802254]"
   ]
  },
  {
   "cell_type": "markdown",
   "metadata": {},
   "source": [
    "Запишем в файл"
   ]
  },
  {
   "cell_type": "code",
   "execution_count": 79,
   "metadata": {
    "collapsed": false
   },
   "outputs": [],
   "source": [
    "from sklearn.naive_bayes import GaussianNB\n",
    "from sklearn.naive_bayes import MultinomialNB\n",
    "from sklearn.neural_network import BernoulliRBM\n",
    "from sklearn.svm import SVR\n",
    "from sknn.mlp import Regressor, Layer\n",
    "\n",
    "def use_method(atrain, atest, param, atype):\n",
    "    if atype == 0:\n",
    "        model = SVC(C = param, probability = True) #LogisticRegression() #SVC(probability = True)\n",
    "        model.fit(atrain.drop(['SUBS_ID', 'IS_RETIREE'], axis=1), atrain['IS_RETIREE'])\n",
    "    elif atype == 1:\n",
    "        model = RandomForestRegressor(n_estimators = param)\n",
    "        model.fit(atrain.drop(['SUBS_ID', 'IS_RETIREE'], axis=1), atrain['IS_RETIREE'])\n",
    "    elif atype == 2:\n",
    "        pca = PCA(n_components=180)\n",
    "        pca.fit(atrain.drop(['SUBS_ID', 'IS_RETIREE'], axis=1))\n",
    "        atrain_pca = pca.transform(atrain.drop(['SUBS_ID', 'IS_RETIREE'], axis=1))\n",
    "        model = RandomForestRegressor(n_estimators = param)\n",
    "        model.fit(atrain_pca, atrain['IS_RETIREE'])\n",
    "    elif atype == 3:\n",
    "        model = SVR(C = param) \n",
    "        model.fit(atrain.drop(['SUBS_ID', 'IS_RETIREE'], axis=1), atrain['IS_RETIREE'])\n",
    "    elif atype == 4:\n",
    "        model = MultinomialNB() \n",
    "        model.fit(atrain.drop(['SUBS_ID', 'IS_RETIREE'], axis=1), atrain['IS_RETIREE'])    \n",
    "    elif atype == 5:\n",
    "        model = Regressor(\n",
    "            layers=[\n",
    "                Layer(\"Linear\", units=5),\n",
    "                Layer(\"Sigmoid\", units=1)#,\n",
    "                #Layer(\"Sigmoid\", units=1)\n",
    "            ],\n",
    "            learning_rate=0.02,\n",
    "            n_iter=1000)\n",
    "        model.fit(atrain.drop(['SUBS_ID', 'IS_RETIREE'], axis=1).as_matrix(), atrain['IS_RETIREE'])\n",
    "    elif atype == 6:\n",
    "        pca = PCA(n_components=60)\n",
    "        pca.fit(atrain.drop(['SUBS_ID', 'IS_RETIREE'], axis=1))\n",
    "        atrain_pca = pca.transform(atrain.drop(['SUBS_ID', 'IS_RETIREE'], axis=1))\n",
    "        model = Regressor(\n",
    "            layers=[\n",
    "                Layer(\"Linear\", units=5),\n",
    "                Layer(\"Sigmoid\", units=1)#,\n",
    "                #Layer(\"Sigmoid\", units=1)\n",
    "            ],\n",
    "            learning_rate=0.02,\n",
    "            n_iter=1000)\n",
    "        model.fit(atrain_pca, atrain['IS_RETIREE'])\n",
    " \n",
    "    \n",
    "    \n",
    "    if atype == 0:\n",
    "        predicted = model.predict_proba(atest.drop(['SUBS_ID'], axis=1))\n",
    "        res_to_kaggle = pd.DataFrame([atest['SUBS_ID'].values, predicted[:,np.dot([0, 1], model.classes_)]],\n",
    "                                      index=['SUBS_ID', 'IS_RETIREE']).T\n",
    "    elif atype == 1:\n",
    "        predicted = model.predict(atest.drop(['SUBS_ID'], axis=1))\n",
    "        predicted = [max(0, min(1, x)) for x in predicted]\n",
    "        res_to_kaggle = pd.DataFrame([atest['SUBS_ID'].values, predicted], index=['SUBS_ID', 'IS_RETIREE']).T\n",
    "    elif atype == 2:\n",
    "        predicted = model.predict(pca.transform(atest.drop(['SUBS_ID'], axis=1)))\n",
    "        predicted = [max(0, min(1, x)) for x in predicted]\n",
    "        res_to_kaggle = pd.DataFrame([atest['SUBS_ID'].values, predicted], index=['SUBS_ID', 'IS_RETIREE']).T\n",
    "    elif atype == 3:\n",
    "        predicted = model.predict(atest.drop(['SUBS_ID'], axis=1))\n",
    "        predicted = [max(0, min(1, x)) for x in predicted]\n",
    "        res_to_kaggle = pd.DataFrame([atest['SUBS_ID'].values, predicted], index=['SUBS_ID', 'IS_RETIREE']).T\n",
    "    elif atype == 4:\n",
    "        predicted = model.predict_proba(atest.drop(['SUBS_ID'], axis=1))\n",
    "        res_to_kaggle = pd.DataFrame([atest['SUBS_ID'].values, predicted[:,np.dot([0, 1], model.classes_)]],\n",
    "                                      index=['SUBS_ID', 'IS_RETIREE']).T\n",
    "    elif atype == 5:\n",
    "        predicted = model.predict(atest.drop(['SUBS_ID'], axis=1).as_matrix())[:,0]\n",
    "        predicted = [max(0, min(1, x)) for x in predicted]\n",
    "        res_to_kaggle = pd.DataFrame([atest['SUBS_ID'].values, predicted], index=['SUBS_ID', 'IS_RETIREE']).T\n",
    "    elif atype == 6:\n",
    "        predicted = model.predict(pca.transform(atest.drop(['SUBS_ID'], axis=1)))[:,0]\n",
    "        predicted = [max(0, min(1, x)) for x in predicted]\n",
    "        res_to_kaggle = pd.DataFrame([atest['SUBS_ID'].values, predicted], index=['SUBS_ID', 'IS_RETIREE']).T\n",
    "        \n",
    "    res_to_kaggle.to_csv(\"res_to_kaggle.csv\", index = False, quoting=2) "
   ]
  },
  {
   "cell_type": "code",
   "execution_count": 45,
   "metadata": {
    "collapsed": true
   },
   "outputs": [],
   "source": [
    "#use_method(training_data, test_data, 500, 2) #0.70819"
   ]
  },
  {
   "cell_type": "markdown",
   "metadata": {},
   "source": [
    "## Попробуем поиграться с логической регрессией"
   ]
  },
  {
   "cell_type": "code",
   "execution_count": 48,
   "metadata": {
    "collapsed": true
   },
   "outputs": [],
   "source": [
    "#from sklearn import grid_search"
   ]
  },
  {
   "cell_type": "code",
   "execution_count": 49,
   "metadata": {
    "collapsed": false
   },
   "outputs": [],
   "source": [
    "\n",
    "#parameters = {'kernel':('linear', 'rbf'), 'C':[1, 10]}\n",
    "#model = SVC(probability = True)\n",
    "#clf = grid_search.GridSearchCV(model, parameters)\n",
    "\n",
    "#clf.fit(train.drop(['SUBS_ID', 'IS_RETIREE'], axis=1), train['IS_RETIREE'])\n",
    "#print(clf)\n",
    "\n",
    "#predicted = model.predict_proba(atest.drop(['SUBS_ID', 'IS_RETIREE'], axis=1))\n"
   ]
  },
  {
   "cell_type": "code",
   "execution_count": 50,
   "metadata": {
    "collapsed": true
   },
   "outputs": [],
   "source": [
    "#use_method(training_data, test_data, 300, 1) #0.74142"
   ]
  },
  {
   "cell_type": "code",
   "execution_count": 51,
   "metadata": {
    "collapsed": false
   },
   "outputs": [],
   "source": [
    "#use_method(training_data, test_data, 1, 3) #0.55057"
   ]
  },
  {
   "cell_type": "code",
   "execution_count": 52,
   "metadata": {
    "collapsed": true
   },
   "outputs": [],
   "source": [
    "#use_method(training_data, test_data, 300, 3) #0.66357"
   ]
  },
  {
   "cell_type": "code",
   "execution_count": 53,
   "metadata": {
    "collapsed": false
   },
   "outputs": [],
   "source": [
    "#use_method(training_data, test_data, 0, 4) #0.67097"
   ]
  },
  {
   "cell_type": "markdown",
   "metadata": {},
   "source": [
    "## Пробуем нейросети"
   ]
  },
  {
   "cell_type": "code",
   "execution_count": 77,
   "metadata": {
    "collapsed": false
   },
   "outputs": [],
   "source": [
    "use_method(training_data, test_data, 0, 5) \n",
    "# 0.69952 - \n",
    "# model = Regressor( layers=[ Layer(\"Linear\", units=5), Layer(\"Sigmoid\", units=3), \n",
    "# Layer(\"Sigmoid\", units=1) ],learning_rate=0.02, n_iter=10)\n",
    "# # -----\n",
    "\n",
    "# 0.71321\n",
    "# model = Regressor( layers=[ Layer(\"Linear\", units=5), Layer(\"Sigmoid\", units=1) ], learning_rate=0.02, n_iter=1000)"
   ]
  },
  {
   "cell_type": "code",
   "execution_count": 80,
   "metadata": {
    "collapsed": false
   },
   "outputs": [],
   "source": [
    "use_method(training_data, test_data, 0, 6) "
   ]
  },
  {
   "cell_type": "code",
   "execution_count": null,
   "metadata": {
    "collapsed": true
   },
   "outputs": [],
   "source": [
    "# 0.71836\n",
    "# PCA(n_components=60) + NN model = Regressor( layers=[ Layer(\"Linear\", units=5),\n",
    "# Layer(\"Sigmoid\", units=1) ], learning_rate=0.02, n_iter=1000)"
   ]
  }
 ],
 "metadata": {
  "kernelspec": {
   "display_name": "Python 3",
   "language": "python",
   "name": "python3"
  },
  "language_info": {
   "codemirror_mode": {
    "name": "ipython",
    "version": 3
   },
   "file_extension": ".py",
   "mimetype": "text/x-python",
   "name": "python",
   "nbconvert_exporter": "python",
   "pygments_lexer": "ipython3",
   "version": "3.5.1"
  }
 },
 "nbformat": 4,
 "nbformat_minor": 0
}
